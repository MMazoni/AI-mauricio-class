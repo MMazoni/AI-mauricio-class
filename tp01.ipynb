{
 "cells": [
  {
   "cell_type": "markdown",
   "metadata": {},
   "source": [
    "# Exercício 1 -  Funções de ativação - Portas Lógicas\n",
    "--------------------------------------\n",
    "\n",
    "###### Matheus Mazoni de Andrade - ADS/Noite - Mauricio Conceição Mario - Inteligência Artificial"
   ]
  },
  {
   "cell_type": "code",
   "execution_count": 1,
   "metadata": {},
   "outputs": [],
   "source": [
    "from pandas import DataFrame\n",
    "\n",
    "class Degrau:\n",
    "\n",
    "    x1 = [0,0,1,1]\n",
    "    x2 = [0,1,0,1]\n",
    "    \n",
    "    def __init__(self, weight1, weight2, limiar):\n",
    "        self.weight1 = weight1\n",
    "        self.weight2 = weight2\n",
    "        self.limiar = limiar\n",
    "\n",
    "    def degrau(self, x1, x2):\n",
    "        y1 = self.calcula_ativacao(x1, x2, self.weight1, self.weight2)\n",
    "        if y1 > self.limiar:\n",
    "            y = 1\n",
    "        else:\n",
    "            y = 0\n",
    "        return y\n",
    "        \n",
    "    def calcula_ativacao(self, x1, x2, peso1, peso2):\n",
    "        return x1 * peso1 + x2 * peso2 # bias\n",
    "\n",
    "    def funcaoAND(self):\n",
    "        for i in range(4):\n",
    "            ab = self.degrau(Degrau.x1[i],Degrau.x2[i])\n",
    "            print(\"Porta E: (Chave A = {}) 'AND' (Chave B = {}) = {}\".format(Degrau.x1[i], Degrau.x2[i], ab))\n",
    "        \n",
    "    def funcaoOR(self):\n",
    "        for i in range(4):\n",
    "            ab = self.degrau(Degrau.x1[i],Degrau.x2[i])\n",
    "            print(\"Porta OU: (Chave A = {}) 'OR' (Chave B = {}) = {}\".format(Degrau.x1[i], Degrau.x2[i], ab))\n",
    "    \n",
    "    def funcaoNAND(self):\n",
    "        for i in range(4):\n",
    "            ab = self.degrau(Degrau.x1[i],Degrau.x2[i])\n",
    "            print(\"Porta NE: (Chave A = {}) 'NAND' (Chave B = {}) = {}\".format(Degrau.x1[i], Degrau.x2[i], ab))\n",
    "    \n",
    "    def funcaoNOR(self):\n",
    "        for i in range(4):\n",
    "            ab = self.degrau(Degrau.x1[i],Degrau.x2[i])\n",
    "            print(\"Porta NOU: (Chave A = {}) 'NOR' (Chave B = {}) = {}\".format(Degrau.x1[i], Degrau.x2[i], ab))    "
   ]
  },
  {
   "cell_type": "markdown",
   "metadata": {},
   "source": [
    "## Porta e função booleana \"AND\""
   ]
  },
  {
   "cell_type": "code",
   "execution_count": 2,
   "metadata": {},
   "outputs": [
    {
     "data": {
      "text/html": [
       "<div>\n",
       "<style scoped>\n",
       "    .dataframe tbody tr th:only-of-type {\n",
       "        vertical-align: middle;\n",
       "    }\n",
       "\n",
       "    .dataframe tbody tr th {\n",
       "        vertical-align: top;\n",
       "    }\n",
       "\n",
       "    .dataframe thead th {\n",
       "        text-align: right;\n",
       "    }\n",
       "</style>\n",
       "<table border=\"1\" class=\"dataframe\">\n",
       "  <thead>\n",
       "    <tr style=\"text-align: right;\">\n",
       "      <th></th>\n",
       "      <th>Chave A</th>\n",
       "      <th>Chave B</th>\n",
       "      <th>Lampada = A.B</th>\n",
       "    </tr>\n",
       "  </thead>\n",
       "  <tbody>\n",
       "    <tr>\n",
       "      <th>0</th>\n",
       "      <td>0</td>\n",
       "      <td>0</td>\n",
       "      <td>0</td>\n",
       "    </tr>\n",
       "    <tr>\n",
       "      <th>1</th>\n",
       "      <td>0</td>\n",
       "      <td>1</td>\n",
       "      <td>0</td>\n",
       "    </tr>\n",
       "    <tr>\n",
       "      <th>2</th>\n",
       "      <td>1</td>\n",
       "      <td>0</td>\n",
       "      <td>0</td>\n",
       "    </tr>\n",
       "    <tr>\n",
       "      <th>3</th>\n",
       "      <td>1</td>\n",
       "      <td>1</td>\n",
       "      <td>1</td>\n",
       "    </tr>\n",
       "  </tbody>\n",
       "</table>\n",
       "</div>"
      ],
      "text/plain": [
       "   Chave A  Chave B  Lampada = A.B\n",
       "0        0        0              0\n",
       "1        0        1              0\n",
       "2        1        0              0\n",
       "3        1        1              1"
      ]
     },
     "execution_count": 2,
     "metadata": {},
     "output_type": "execute_result"
    }
   ],
   "source": [
    "df = DataFrame({'Chave A': [0,0,1,1], 'Chave B': [0,1,0,1], 'Lampada = A.B': [0,0,0,1]},)\n",
    "df"
   ]
  },
  {
   "cell_type": "code",
   "execution_count": 3,
   "metadata": {},
   "outputs": [
    {
     "name": "stdout",
     "output_type": "stream",
     "text": [
      "Porta E: (Chave A = 0) 'AND' (Chave B = 0) = 0\n",
      "Porta E: (Chave A = 0) 'AND' (Chave B = 1) = 0\n",
      "Porta E: (Chave A = 1) 'AND' (Chave B = 0) = 0\n",
      "Porta E: (Chave A = 1) 'AND' (Chave B = 1) = 1\n"
     ]
    }
   ],
   "source": [
    "p1=1\n",
    "p2=1\n",
    "limiar=1.5\n",
    "\n",
    "ld = Degrau(p1,p2,limiar)\n",
    "\n",
    "ld.funcaoAND()"
   ]
  },
  {
   "cell_type": "markdown",
   "metadata": {},
   "source": [
    "## Porta e função booleana \"OR\""
   ]
  },
  {
   "cell_type": "code",
   "execution_count": 4,
   "metadata": {},
   "outputs": [
    {
     "data": {
      "text/html": [
       "<div>\n",
       "<style scoped>\n",
       "    .dataframe tbody tr th:only-of-type {\n",
       "        vertical-align: middle;\n",
       "    }\n",
       "\n",
       "    .dataframe tbody tr th {\n",
       "        vertical-align: top;\n",
       "    }\n",
       "\n",
       "    .dataframe thead th {\n",
       "        text-align: right;\n",
       "    }\n",
       "</style>\n",
       "<table border=\"1\" class=\"dataframe\">\n",
       "  <thead>\n",
       "    <tr style=\"text-align: right;\">\n",
       "      <th></th>\n",
       "      <th>Chave A</th>\n",
       "      <th>Chave B</th>\n",
       "      <th>Lampada A+B</th>\n",
       "    </tr>\n",
       "  </thead>\n",
       "  <tbody>\n",
       "    <tr>\n",
       "      <th>0</th>\n",
       "      <td>0</td>\n",
       "      <td>0</td>\n",
       "      <td>0</td>\n",
       "    </tr>\n",
       "    <tr>\n",
       "      <th>1</th>\n",
       "      <td>0</td>\n",
       "      <td>1</td>\n",
       "      <td>1</td>\n",
       "    </tr>\n",
       "    <tr>\n",
       "      <th>2</th>\n",
       "      <td>1</td>\n",
       "      <td>0</td>\n",
       "      <td>1</td>\n",
       "    </tr>\n",
       "    <tr>\n",
       "      <th>3</th>\n",
       "      <td>1</td>\n",
       "      <td>1</td>\n",
       "      <td>1</td>\n",
       "    </tr>\n",
       "  </tbody>\n",
       "</table>\n",
       "</div>"
      ],
      "text/plain": [
       "   Chave A  Chave B  Lampada A+B\n",
       "0        0        0            0\n",
       "1        0        1            1\n",
       "2        1        0            1\n",
       "3        1        1            1"
      ]
     },
     "execution_count": 4,
     "metadata": {},
     "output_type": "execute_result"
    }
   ],
   "source": [
    "df = DataFrame({'Chave A': [0,0,1,1], 'Chave B': [0,1,0,1], 'Lampada A+B': [0,1,1,1]})\n",
    "df"
   ]
  },
  {
   "cell_type": "code",
   "execution_count": 5,
   "metadata": {},
   "outputs": [
    {
     "name": "stdout",
     "output_type": "stream",
     "text": [
      "Porta OU: (Chave A = 0) 'OR' (Chave B = 0) = 0\n",
      "Porta OU: (Chave A = 0) 'OR' (Chave B = 1) = 1\n",
      "Porta OU: (Chave A = 1) 'OR' (Chave B = 0) = 1\n",
      "Porta OU: (Chave A = 1) 'OR' (Chave B = 1) = 1\n"
     ]
    }
   ],
   "source": [
    "p1=1\n",
    "p2=1\n",
    "limiar=0.8\n",
    "\n",
    "ld = Degrau(p1,p2,limiar)\n",
    "\n",
    "ld.funcaoOR()"
   ]
  },
  {
   "cell_type": "markdown",
   "metadata": {},
   "source": [
    "## Porta e função booleana \"NAND\""
   ]
  },
  {
   "cell_type": "code",
   "execution_count": 6,
   "metadata": {},
   "outputs": [
    {
     "data": {
      "text/html": [
       "<div>\n",
       "<style scoped>\n",
       "    .dataframe tbody tr th:only-of-type {\n",
       "        vertical-align: middle;\n",
       "    }\n",
       "\n",
       "    .dataframe tbody tr th {\n",
       "        vertical-align: top;\n",
       "    }\n",
       "\n",
       "    .dataframe thead th {\n",
       "        text-align: right;\n",
       "    }\n",
       "</style>\n",
       "<table border=\"1\" class=\"dataframe\">\n",
       "  <thead>\n",
       "    <tr style=\"text-align: right;\">\n",
       "      <th></th>\n",
       "      <th>Chave A</th>\n",
       "      <th>Chave B</th>\n",
       "      <th>Lampada = ~(A.B)</th>\n",
       "    </tr>\n",
       "  </thead>\n",
       "  <tbody>\n",
       "    <tr>\n",
       "      <th>0</th>\n",
       "      <td>0</td>\n",
       "      <td>0</td>\n",
       "      <td>1</td>\n",
       "    </tr>\n",
       "    <tr>\n",
       "      <th>1</th>\n",
       "      <td>0</td>\n",
       "      <td>1</td>\n",
       "      <td>1</td>\n",
       "    </tr>\n",
       "    <tr>\n",
       "      <th>2</th>\n",
       "      <td>1</td>\n",
       "      <td>0</td>\n",
       "      <td>1</td>\n",
       "    </tr>\n",
       "    <tr>\n",
       "      <th>3</th>\n",
       "      <td>1</td>\n",
       "      <td>1</td>\n",
       "      <td>0</td>\n",
       "    </tr>\n",
       "  </tbody>\n",
       "</table>\n",
       "</div>"
      ],
      "text/plain": [
       "   Chave A  Chave B  Lampada = ~(A.B)\n",
       "0        0        0                 1\n",
       "1        0        1                 1\n",
       "2        1        0                 1\n",
       "3        1        1                 0"
      ]
     },
     "execution_count": 6,
     "metadata": {},
     "output_type": "execute_result"
    }
   ],
   "source": [
    "df = DataFrame({'Chave A': [0,0,1,1], 'Chave B': [0,1,0,1], 'Lampada = ~(A.B)': [1,1,1,0]})\n",
    "df"
   ]
  },
  {
   "cell_type": "code",
   "execution_count": 7,
   "metadata": {},
   "outputs": [
    {
     "name": "stdout",
     "output_type": "stream",
     "text": [
      "Porta NE: (Chave A = 0) 'NAND' (Chave B = 0) = 1\n",
      "Porta NE: (Chave A = 0) 'NAND' (Chave B = 1) = 1\n",
      "Porta NE: (Chave A = 1) 'NAND' (Chave B = 0) = 1\n",
      "Porta NE: (Chave A = 1) 'NAND' (Chave B = 1) = 0\n"
     ]
    }
   ],
   "source": [
    "p1=-1\n",
    "p2=-1\n",
    "limiar=-1.5\n",
    "\n",
    "ld = Degrau(p1,p2,limiar)\n",
    "\n",
    "ld.funcaoNAND()"
   ]
  },
  {
   "cell_type": "markdown",
   "metadata": {},
   "source": [
    "## Porta e função booleana \"NOR\""
   ]
  },
  {
   "cell_type": "code",
   "execution_count": 8,
   "metadata": {},
   "outputs": [
    {
     "data": {
      "text/html": [
       "<div>\n",
       "<style scoped>\n",
       "    .dataframe tbody tr th:only-of-type {\n",
       "        vertical-align: middle;\n",
       "    }\n",
       "\n",
       "    .dataframe tbody tr th {\n",
       "        vertical-align: top;\n",
       "    }\n",
       "\n",
       "    .dataframe thead th {\n",
       "        text-align: right;\n",
       "    }\n",
       "</style>\n",
       "<table border=\"1\" class=\"dataframe\">\n",
       "  <thead>\n",
       "    <tr style=\"text-align: right;\">\n",
       "      <th></th>\n",
       "      <th>Chave A</th>\n",
       "      <th>Chave B</th>\n",
       "      <th>Lampada = ~(A+B)</th>\n",
       "    </tr>\n",
       "  </thead>\n",
       "  <tbody>\n",
       "    <tr>\n",
       "      <th>0</th>\n",
       "      <td>0</td>\n",
       "      <td>0</td>\n",
       "      <td>1</td>\n",
       "    </tr>\n",
       "    <tr>\n",
       "      <th>1</th>\n",
       "      <td>0</td>\n",
       "      <td>1</td>\n",
       "      <td>0</td>\n",
       "    </tr>\n",
       "    <tr>\n",
       "      <th>2</th>\n",
       "      <td>1</td>\n",
       "      <td>0</td>\n",
       "      <td>0</td>\n",
       "    </tr>\n",
       "    <tr>\n",
       "      <th>3</th>\n",
       "      <td>1</td>\n",
       "      <td>1</td>\n",
       "      <td>0</td>\n",
       "    </tr>\n",
       "  </tbody>\n",
       "</table>\n",
       "</div>"
      ],
      "text/plain": [
       "   Chave A  Chave B  Lampada = ~(A+B)\n",
       "0        0        0                 1\n",
       "1        0        1                 0\n",
       "2        1        0                 0\n",
       "3        1        1                 0"
      ]
     },
     "execution_count": 8,
     "metadata": {},
     "output_type": "execute_result"
    }
   ],
   "source": [
    "df = DataFrame({'Chave A': [0,0,1,1], 'Chave B': [0,1,0,1], 'Lampada = ~(A+B)': [1,0,0,0]})\n",
    "df"
   ]
  },
  {
   "cell_type": "code",
   "execution_count": 9,
   "metadata": {},
   "outputs": [
    {
     "name": "stdout",
     "output_type": "stream",
     "text": [
      "Porta NOU: (Chave A = 0) 'NOR' (Chave B = 0) = 1\n",
      "Porta NOU: (Chave A = 0) 'NOR' (Chave B = 1) = 0\n",
      "Porta NOU: (Chave A = 1) 'NOR' (Chave B = 0) = 0\n",
      "Porta NOU: (Chave A = 1) 'NOR' (Chave B = 1) = 0\n"
     ]
    }
   ],
   "source": [
    "p1=-1\n",
    "p2=-1\n",
    "limiar=-1\n",
    "\n",
    "ld = Degrau(p1,p2,limiar)\n",
    "\n",
    "ld.funcaoNOR()"
   ]
  }
 ],
 "metadata": {
  "kernelspec": {
   "display_name": "Python 3",
   "language": "python",
   "name": "python3"
  },
  "language_info": {
   "codemirror_mode": {
    "name": "ipython",
    "version": 3
   },
   "file_extension": ".py",
   "mimetype": "text/x-python",
   "name": "python",
   "nbconvert_exporter": "python",
   "pygments_lexer": "ipython3",
   "version": "3.7.2"
  }
 },
 "nbformat": 4,
 "nbformat_minor": 2
}
